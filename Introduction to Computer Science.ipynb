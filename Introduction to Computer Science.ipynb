{
 "cells": [
  {
   "cell_type": "markdown",
   "metadata": {},
   "source": [
    "# Generating a list of numbers"
   ]
  },
  {
   "cell_type": "code",
   "execution_count": 1,
   "metadata": {},
   "outputs": [],
   "source": [
    "import random\n",
    "#Setting random.seed ensures that all the operations and evaluations below are based on the same data. \n",
    "random.seed(42)\n",
    "#Produce 100000 floating point numbers within the given range\n",
    "L1 = [random.random() for i in range(10000)] "
   ]
  },
  {
   "cell_type": "markdown",
   "metadata": {},
   "source": [
    "# Choose sizes of lists used"
   ]
  },
  {
   "cell_type": "code",
   "execution_count": 2,
   "metadata": {},
   "outputs": [],
   "source": [
    "#Use three kinds of size: sizes of L1, sample1 (randomly select 100 numbers from L1) and sample2 (randomly select 1000 numbers from L1) \n",
    "from random import sample\n",
    "sample1 = sample(L1,100)\n",
    "sample2 = sample(L1, 1000)"
   ]
  },
  {
   "cell_type": "markdown",
   "metadata": {},
   "source": [
    "# Evaluation1: Finding the mean of a list of numbers"
   ]
  },
  {
   "cell_type": "code",
   "execution_count": 3,
   "metadata": {},
   "outputs": [],
   "source": [
    "#The user-defined function can time three methods of finding the mean of a list of numbers\n",
    "def timing1(List):\n",
    "\n",
    "    def py_mean():\n",
    "        # \"list\" has no attribute \"mean\", we need to transform the \"list\" to \"array\" first\n",
    "        import numpy as np\n",
    "        Array = np.array(List)\n",
    "        mean1 = round(Array.mean(),5)\n",
    "        return mean1\n",
    "    def np_mean():\n",
    "        import numpy as np\n",
    "        mean2 = round(np.mean(List),5)\n",
    "        return mean2\n",
    "    def DF_mean():\n",
    "        import pandas as pd\n",
    "        Ldf = pd.DataFrame(data = List, columns=[\"number\"])\n",
    "        mean3 = round(pd.DataFrame.mean(Ldf),5)\n",
    "        return mean3\n",
    "\n",
    "    import timeit\n",
    "    #The List “calculations1” are created to store these functions, preparing for the timeit() function below. \n",
    "    calculations1 = [py_mean, np_mean, DF_mean]\n",
    "    y1 = []\n",
    "    for calculation in calculations1:\n",
    "        #\"repeat\" specifies how many times to call timeit(). \"number\" specifies the number argument for timeit().\n",
    "        #The minimum value of each timeit.repeat() is worthy to be documented.\n",
    "        mean_time = min(timeit.repeat(stmt = calculation, number = 100, repeat = 100))\n",
    "        y1.append(mean_time)    \n",
    "    return y1\n"
   ]
  },
  {
   "cell_type": "code",
   "execution_count": 4,
   "metadata": {},
   "outputs": [
    {
     "name": "stdout",
     "output_type": "stream",
     "text": [
      "[0.023977899999999774, 0.02551509999999979, 0.07041330000000023]\n",
      "[0.0011818000000012319, 0.0014199000000001405, 0.027916199999999947]\n",
      "[0.0034410999999998637, 0.003625799999998236, 0.033630200000001054]\n"
     ]
    }
   ],
   "source": [
    "y1_1 = timing1(L1)\n",
    "y1_2 = timing1(sample1)\n",
    "y1_3 = timing1(sample2)\n",
    "\n",
    "print(y1_1)\n",
    "print(y1_2)\n",
    "print(y1_3)"
   ]
  },
  {
   "cell_type": "markdown",
   "metadata": {},
   "source": [
    "# Evaluation2: Sorting a list of numbers"
   ]
  },
  {
   "cell_type": "code",
   "execution_count": 5,
   "metadata": {},
   "outputs": [],
   "source": [
    "#Whether the loops in one timeit() function \n",
    "#or the multiple times of calling timeit() function in the time.repeat function will repeat the statements in each calculation\n",
    "#If the sort() function is repeated certain times,\n",
    "#the number list participating in each measurement of timeit() function is already sorted from the second loop\n",
    "\n",
    "#The user-defined function can time three methods of sorting a list of numbers\n",
    "def timing2(List):\n",
    "    \n",
    "    loop = 0\n",
    "    Time1 = []\n",
    "    Time2 = []\n",
    "    Time3 = []\n",
    "      \n",
    "    def py_sort():\n",
    "        import numpy as np\n",
    "        Array = np.array(List)\n",
    "        List_sort1 = Array.sort()\n",
    "        return List_sort1\n",
    "    def np_sort():\n",
    "        import numpy as np\n",
    "        List_sort2 = np.sort(List)\n",
    "        return List_sort2\n",
    "    def DF_sort():\n",
    "        import pandas as pd\n",
    "        Ldf = pd.DataFrame(data = List, columns=[\"number\"])\n",
    "        List_sort3 = Ldf.sort_values(by=['number'])\n",
    "        return List_sort3\n",
    "    \n",
    "    while loop < 100:\n",
    "        loop += 1\n",
    "        import timeit\n",
    "        outcome1 = timeit.repeat(stmt = py_sort, number = 1, repeat = 1)\n",
    "        outcome2 = timeit.repeat(stmt = np_sort, number = 1, repeat = 1)\n",
    "        outcome3 = timeit.repeat(stmt = DF_sort, number = 1, repeat = 1)\n",
    "        Time1 += outcome1\n",
    "        Time2 += outcome2\n",
    "        Time3 += outcome3\n",
    "    \n",
    "    Time = [Time1, Time2, Time3]\n",
    "    y2 = []\n",
    "    for time in Time:\n",
    "        sort_time = min(time)\n",
    "        y2.append(sort_time)\n",
    "    return y2\n"
   ]
  },
  {
   "cell_type": "code",
   "execution_count": 6,
   "metadata": {},
   "outputs": [
    {
     "name": "stdout",
     "output_type": "stream",
     "text": [
      "[0.0006385999999984904, 0.0006389000000019962, 0.001417199999998786]\n",
      "[1.0400000000743148e-05, 1.2200000000461841e-05, 0.0004233000000013476]\n",
      "[6.10999999999251e-05, 6.149999999749411e-05, 0.0005235999999975149]\n"
     ]
    }
   ],
   "source": [
    "y2_1 = timing2(L1)\n",
    "y2_2 = timing2(sample1)\n",
    "y2_3 = timing2(sample2)\n",
    "\n",
    "print(y2_1)\n",
    "print(y2_2)\n",
    "print(y2_3)"
   ]
  },
  {
   "cell_type": "markdown",
   "metadata": {},
   "source": [
    "# Evaluation3: Finding the median of a list of numbers"
   ]
  },
  {
   "cell_type": "code",
   "execution_count": 7,
   "metadata": {},
   "outputs": [],
   "source": [
    "#The user-defined function can time two methods of Finding the median of a list of numbers\n",
    "def timing3(List):\n",
    "    \n",
    "    \n",
    "    def np_median():\n",
    "        #Finding the median of a list of numbers is based on the python standard library sorted() function\n",
    "        SortedList = sorted(List)\n",
    "        import numpy as np\n",
    "        median1 = np.median(SortedList)\n",
    "        return median1\n",
    "    def DF_median():\n",
    "        #Finding the median of a list of numbers is based on the python standard library sorted() function\n",
    "        SortedList = sorted(List)\n",
    "        import pandas as pd\n",
    "        Ldf = pd.DataFrame(data = SortedList, columns=[\"number\"])\n",
    "        median2 = pd.DataFrame.median(Ldf)\n",
    "        return median2\n",
    "\n",
    "    import timeit\n",
    "    calculations3 = [np_median, DF_median]\n",
    "    y3 = []\n",
    "    for calculation in calculations3:\n",
    "        median_time = min(timeit.repeat(stmt = calculation, number = 100, repeat = 100))\n",
    "        y3.append(median_time)\n",
    "    return y3\n"
   ]
  },
  {
   "cell_type": "code",
   "execution_count": 8,
   "metadata": {},
   "outputs": [
    {
     "name": "stdout",
     "output_type": "stream",
     "text": [
      "[0.1272283999999999, 0.17033479999999912]\n",
      "[0.00342170000000408, 0.02373529999999846]\n",
      "[0.012389400000003548, 0.03608119999999815]\n"
     ]
    }
   ],
   "source": [
    "y3_1 = timing3(L1)\n",
    "y3_2 = timing3(sample1)\n",
    "y3_3 = timing3(sample2)\n",
    "\n",
    "print(y3_1)\n",
    "print(y3_2)\n",
    "print(y3_3)"
   ]
  },
  {
   "cell_type": "markdown",
   "metadata": {},
   "source": [
    "# Visualization and Comparsion"
   ]
  },
  {
   "cell_type": "code",
   "execution_count": 9,
   "metadata": {},
   "outputs": [],
   "source": [
    "#Prepare for building DataFrame: DF1, DF2, DF3\n",
    "lists = [\"L1\", \"sample1\", \"sample2\"]"
   ]
  },
  {
   "cell_type": "code",
   "execution_count": 10,
   "metadata": {},
   "outputs": [],
   "source": [
    "#Prepare for plotting DataFrame: DF1, DF2, DF3. Ensure that output of plotting commands is displayed inline\n",
    "%matplotlib inline"
   ]
  },
  {
   "cell_type": "markdown",
   "metadata": {},
   "source": [
    "Evaluation 1"
   ]
  },
  {
   "cell_type": "code",
   "execution_count": 11,
   "metadata": {},
   "outputs": [
    {
     "data": {
      "text/html": [
       "<div>\n",
       "<style scoped>\n",
       "    .dataframe tbody tr th:only-of-type {\n",
       "        vertical-align: middle;\n",
       "    }\n",
       "\n",
       "    .dataframe tbody tr th {\n",
       "        vertical-align: top;\n",
       "    }\n",
       "\n",
       "    .dataframe thead th {\n",
       "        text-align: right;\n",
       "    }\n",
       "</style>\n",
       "<table border=\"1\" class=\"dataframe\">\n",
       "  <thead>\n",
       "    <tr style=\"text-align: right;\">\n",
       "      <th></th>\n",
       "      <th>List</th>\n",
       "      <th>py_mean</th>\n",
       "      <th>np_mean</th>\n",
       "      <th>DF_mean</th>\n",
       "    </tr>\n",
       "  </thead>\n",
       "  <tbody>\n",
       "    <tr>\n",
       "      <td>1</td>\n",
       "      <td>sample1</td>\n",
       "      <td>0.001182</td>\n",
       "      <td>0.001420</td>\n",
       "      <td>0.027916</td>\n",
       "    </tr>\n",
       "    <tr>\n",
       "      <td>2</td>\n",
       "      <td>sample2</td>\n",
       "      <td>0.003441</td>\n",
       "      <td>0.003626</td>\n",
       "      <td>0.033630</td>\n",
       "    </tr>\n",
       "    <tr>\n",
       "      <td>0</td>\n",
       "      <td>L1</td>\n",
       "      <td>0.023978</td>\n",
       "      <td>0.025515</td>\n",
       "      <td>0.070413</td>\n",
       "    </tr>\n",
       "  </tbody>\n",
       "</table>\n",
       "</div>"
      ],
      "text/plain": [
       "      List   py_mean   np_mean   DF_mean\n",
       "1  sample1  0.001182  0.001420  0.027916\n",
       "2  sample2  0.003441  0.003626  0.033630\n",
       "0       L1  0.023978  0.025515  0.070413"
      ]
     },
     "execution_count": 11,
     "metadata": {},
     "output_type": "execute_result"
    }
   ],
   "source": [
    "names1 = [\"py_mean\", \"np_mean\", \"DF_mean\"]\n",
    "y1 = [y1_1, y1_2, y1_3]\n",
    "\n",
    "import pandas as pd\n",
    "DF1 = pd.DataFrame(y1, columns = names1)\n",
    "DF1.insert(0, \"List\", lists, allow_duplicates=False)\n",
    "\n",
    "DF1 = DF1.sort_values(by = [\"py_mean\"])\n",
    "DF1"
   ]
  },
  {
   "cell_type": "code",
   "execution_count": 12,
   "metadata": {},
   "outputs": [
    {
     "data": {
      "image/png": "[encoded data removed]",
      "text/plain": [
       "<Figure size 720x576 with 1 Axes>"
      ]
     },
     "metadata": {
      "needs_background": "light"
     },
     "output_type": "display_data"
    }
   ],
   "source": [
    "#plot the DataFrame\n",
    "ax1 = DF1.plot.bar(x=\"List\",y = names1,figsize=(10,8), legend=True, fontsize=12, title = \"Evaluation on Performance (Finding the mean)\")\n",
    "ax1.tick_params(axis='x', rotation = 30)\n",
    "\n",
    "#Annotates bars with values\n",
    "for p in ax1.patches:\n",
    "        ax1.annotate(\"%.5f\" % p.get_height() ,(p.get_x() + p.get_width() / 2, p.get_height()),\n",
    "             ha='center', va='center', rotation=20, xytext=(0, 10), textcoords='offset points',fontsize=8) "
   ]
  },
  {
   "cell_type": "code",
   "execution_count": 13,
   "metadata": {
    "scrolled": true
   },
   "outputs": [
    {
     "name": "stdout",
     "output_type": "stream",
     "text": [
      "6.41%\n",
      "175.97%\n"
     ]
    }
   ],
   "source": [
    "#L1 - 10000 numbers\n",
    "#calculate running time of np_mean is what percentage more than that of py_mean\n",
    "print(\"%.2f%%\" %((y1_1[1]-y1_1[0]) / y1_1[0] * 100))\n",
    "#calculate running time of DF_mean is what percentage more than that of np_mean\n",
    "print(\"%.2f%%\" %((y1_1[2]-y1_1[1]) / y1_1[1] * 100))"
   ]
  },
  {
   "cell_type": "code",
   "execution_count": 14,
   "metadata": {},
   "outputs": [
    {
     "name": "stdout",
     "output_type": "stream",
     "text": [
      "20.15%\n",
      "1866.07%\n"
     ]
    }
   ],
   "source": [
    "#sample 1 - 100 numbers\n",
    "print(\"%.2f%%\" %((y1_2[1]-y1_2[0]) / y1_2[0] * 100))\n",
    "\n",
    "print(\"%.2f%%\" %((y1_2[2]-y1_2[1]) / y1_2[1] * 100))"
   ]
  },
  {
   "cell_type": "code",
   "execution_count": 15,
   "metadata": {},
   "outputs": [
    {
     "name": "stdout",
     "output_type": "stream",
     "text": [
      "5.37%\n",
      "827.52%\n"
     ]
    }
   ],
   "source": [
    "#sample 2 - 1000numbers\n",
    "print(\"%.2f%%\" %((y1_3[1]-y1_3[0]) / y1_3[0] * 100))\n",
    "\n",
    "print(\"%.2f%%\" %((y1_3[2]-y1_3[1]) / y1_3[1] * 100))"
   ]
  },
  {
   "cell_type": "markdown",
   "metadata": {},
   "source": [
    "Evaluation 2"
   ]
  },
  {
   "cell_type": "code",
   "execution_count": 16,
   "metadata": {},
   "outputs": [
    {
     "data": {
      "text/html": [
       "<div>\n",
       "<style scoped>\n",
       "    .dataframe tbody tr th:only-of-type {\n",
       "        vertical-align: middle;\n",
       "    }\n",
       "\n",
       "    .dataframe tbody tr th {\n",
       "        vertical-align: top;\n",
       "    }\n",
       "\n",
       "    .dataframe thead th {\n",
       "        text-align: right;\n",
       "    }\n",
       "</style>\n",
       "<table border=\"1\" class=\"dataframe\">\n",
       "  <thead>\n",
       "    <tr style=\"text-align: right;\">\n",
       "      <th></th>\n",
       "      <th>List</th>\n",
       "      <th>py_sort</th>\n",
       "      <th>np_sort</th>\n",
       "      <th>DF_sort</th>\n",
       "    </tr>\n",
       "  </thead>\n",
       "  <tbody>\n",
       "    <tr>\n",
       "      <td>1</td>\n",
       "      <td>sample1</td>\n",
       "      <td>0.000010</td>\n",
       "      <td>0.000012</td>\n",
       "      <td>0.000423</td>\n",
       "    </tr>\n",
       "    <tr>\n",
       "      <td>2</td>\n",
       "      <td>sample2</td>\n",
       "      <td>0.000061</td>\n",
       "      <td>0.000061</td>\n",
       "      <td>0.000524</td>\n",
       "    </tr>\n",
       "    <tr>\n",
       "      <td>0</td>\n",
       "      <td>L1</td>\n",
       "      <td>0.000639</td>\n",
       "      <td>0.000639</td>\n",
       "      <td>0.001417</td>\n",
       "    </tr>\n",
       "  </tbody>\n",
       "</table>\n",
       "</div>"
      ],
      "text/plain": [
       "      List   py_sort   np_sort   DF_sort\n",
       "1  sample1  0.000010  0.000012  0.000423\n",
       "2  sample2  0.000061  0.000061  0.000524\n",
       "0       L1  0.000639  0.000639  0.001417"
      ]
     },
     "execution_count": 16,
     "metadata": {},
     "output_type": "execute_result"
    }
   ],
   "source": [
    "names2 = [\"py_sort\", \"np_sort\", \"DF_sort\"]\n",
    "y2 = [y2_1, y2_2, y2_3]\n",
    "\n",
    "import pandas as pd\n",
    "DF2 = pd.DataFrame(y2, columns = names2)\n",
    "DF2.insert(0, \"List\", lists, allow_duplicates=False)\n",
    "\n",
    "DF2 = DF2.sort_values(by = [\"py_sort\"])\n",
    "DF2"
   ]
  },
  {
   "cell_type": "code",
   "execution_count": 17,
   "metadata": {},
   "outputs": [
    {
     "data": {
      "image/png": "[encoded data removed]",
      "text/plain": [
       "<Figure size 720x576 with 1 Axes>"
      ]
     },
     "metadata": {
      "needs_background": "light"
     },
     "output_type": "display_data"
    }
   ],
   "source": [
    "#plot the DataFrame\n",
    "ax2 = DF2.plot.bar(x=\"List\",y = names2,figsize=(10,8), legend=True, fontsize=12, title = \"Evaluation on Performance (Sorting a list of numbers)\")\n",
    "ax2.tick_params(axis='x', rotation = 30)\n",
    "\n",
    "#Annotates bars with values\n",
    "for p in ax2.patches:\n",
    "        ax2.annotate(\"%.5f\" % p.get_height() ,(p.get_x() + p.get_width() / 2, p.get_height()),\n",
    "             ha='center', va='center', rotation=20, xytext=(0, 10), textcoords='offset points',fontsize=8) "
   ]
  },
  {
   "cell_type": "code",
   "execution_count": 18,
   "metadata": {},
   "outputs": [
    {
     "name": "stdout",
     "output_type": "stream",
     "text": [
      "0.05%\n",
      "121.82%\n"
     ]
    }
   ],
   "source": [
    "#L1 - 10000 numbers\n",
    "print(\"%.2f%%\" %((y2_1[1]-y2_1[0]) / y2_1[0] * 100))\n",
    "\n",
    "print(\"%.2f%%\" %((y2_1[2]-y2_1[1]) / y2_1[1] * 100))"
   ]
  },
  {
   "cell_type": "code",
   "execution_count": 19,
   "metadata": {},
   "outputs": [
    {
     "name": "stdout",
     "output_type": "stream",
     "text": [
      "17.31%\n",
      "3369.67%\n"
     ]
    }
   ],
   "source": [
    "#sample 1 - 100 numbers\n",
    "print(\"%.2f%%\" %((y2_2[1]-y2_2[0]) / y2_2[0] * 100))\n",
    "\n",
    "print(\"%.2f%%\" %((y2_2[2]-y2_2[1]) / y2_2[1] * 100))"
   ]
  },
  {
   "cell_type": "code",
   "execution_count": 20,
   "metadata": {},
   "outputs": [
    {
     "name": "stdout",
     "output_type": "stream",
     "text": [
      "0.65%\n",
      "831.54%\n"
     ]
    }
   ],
   "source": [
    "#sample 2 - 1000numbers\n",
    "print(\"%.2f%%\" %((y2_3[1]-y2_3[0]) / y2_3[0] * 100))\n",
    "\n",
    "print(\"%.2f%%\" %((y2_3[2]-y2_2[1]) / y2_3[1] * 100))"
   ]
  },
  {
   "cell_type": "markdown",
   "metadata": {},
   "source": [
    "Evaluation 3"
   ]
  },
  {
   "cell_type": "code",
   "execution_count": 21,
   "metadata": {},
   "outputs": [
    {
     "data": {
      "text/html": [
       "<div>\n",
       "<style scoped>\n",
       "    .dataframe tbody tr th:only-of-type {\n",
       "        vertical-align: middle;\n",
       "    }\n",
       "\n",
       "    .dataframe tbody tr th {\n",
       "        vertical-align: top;\n",
       "    }\n",
       "\n",
       "    .dataframe thead th {\n",
       "        text-align: right;\n",
       "    }\n",
       "</style>\n",
       "<table border=\"1\" class=\"dataframe\">\n",
       "  <thead>\n",
       "    <tr style=\"text-align: right;\">\n",
       "      <th></th>\n",
       "      <th>List</th>\n",
       "      <th>np_median</th>\n",
       "      <th>DF_median</th>\n",
       "    </tr>\n",
       "  </thead>\n",
       "  <tbody>\n",
       "    <tr>\n",
       "      <td>1</td>\n",
       "      <td>sample1</td>\n",
       "      <td>0.003422</td>\n",
       "      <td>0.023735</td>\n",
       "    </tr>\n",
       "    <tr>\n",
       "      <td>2</td>\n",
       "      <td>sample2</td>\n",
       "      <td>0.012389</td>\n",
       "      <td>0.036081</td>\n",
       "    </tr>\n",
       "    <tr>\n",
       "      <td>0</td>\n",
       "      <td>L1</td>\n",
       "      <td>0.127228</td>\n",
       "      <td>0.170335</td>\n",
       "    </tr>\n",
       "  </tbody>\n",
       "</table>\n",
       "</div>"
      ],
      "text/plain": [
       "      List  np_median  DF_median\n",
       "1  sample1   0.003422   0.023735\n",
       "2  sample2   0.012389   0.036081\n",
       "0       L1   0.127228   0.170335"
      ]
     },
     "execution_count": 21,
     "metadata": {},
     "output_type": "execute_result"
    }
   ],
   "source": [
    "names3 = [\"np_median\", \"DF_median\"]\n",
    "y3 = [y3_1, y3_2, y3_3]\n",
    "\n",
    "import pandas as pd\n",
    "DF3 = pd.DataFrame(y3, columns = names3)\n",
    "DF3.insert(0, \"List\", lists, allow_duplicates=False)\n",
    "\n",
    "DF3 = DF3.sort_values(by = [\"np_median\"])\n",
    "DF3"
   ]
  },
  {
   "cell_type": "code",
   "execution_count": 22,
   "metadata": {},
   "outputs": [
    {
     "data": {
      "image/png": "[encoded data removed]",
      "text/plain": [
       "<Figure size 720x576 with 1 Axes>"
      ]
     },
     "metadata": {
      "needs_background": "light"
     },
     "output_type": "display_data"
    }
   ],
   "source": [
    "#plot the DataFrame\n",
    "ax3 = DF3.plot.bar(x = \"List\",y = names3, figsize = (10,8), legend = True, fontsize = 12, title = \"Evaluation on Performance (Finding the median)\")\n",
    "ax3.tick_params(axis = 'x', rotation = 30)\n",
    "\n",
    "#Annotates bars with values\n",
    "for p in ax3.patches:\n",
    "        ax3.annotate(\"%.5f\" % p.get_height() ,(p.get_x() + p.get_width() / 2, p.get_height()),\n",
    "             ha='center', va='center', rotation=20, xytext=(0, 10), textcoords='offset points',fontsize=8) "
   ]
  },
  {
   "cell_type": "code",
   "execution_count": 23,
   "metadata": {},
   "outputs": [
    {
     "name": "stdout",
     "output_type": "stream",
     "text": [
      "33.88%\n"
     ]
    }
   ],
   "source": [
    "#L1 - 10000 numbers\n",
    "#calculate running time of DF_median is what percentage more than that of np_median\n",
    "print(\"%.2f%%\" %((y3_1[1]-y3_1[0]) / y3_1[0] * 100))"
   ]
  },
  {
   "cell_type": "code",
   "execution_count": 24,
   "metadata": {},
   "outputs": [
    {
     "name": "stdout",
     "output_type": "stream",
     "text": [
      "593.67%\n"
     ]
    }
   ],
   "source": [
    "#sample 1 - 100 numbers\n",
    "#calculate running time of DF_median is what percentage more than that of np_median\n",
    "print(\"%.2f%%\" %((y3_2[1]-y3_2[0]) / y3_2[0] * 100))"
   ]
  },
  {
   "cell_type": "code",
   "execution_count": 25,
   "metadata": {},
   "outputs": [
    {
     "name": "stdout",
     "output_type": "stream",
     "text": [
      "191.23%\n"
     ]
    }
   ],
   "source": [
    "#sample 2 - 1000numbers\n",
    "#calculate running time of DF_median is what percentage more than that of np_median\n",
    "print(\"%.2f%%\" %((y3_3[1]-y3_3[0]) / y3_3[0] * 100))"
   ]
  },
  {
   "cell_type": "markdown",
   "metadata": {},
   "source": [
    "# Doctest"
   ]
  },
  {
   "cell_type": "code",
   "execution_count": 26,
   "metadata": {},
   "outputs": [
    {
     "name": "stdout",
     "output_type": "stream",
     "text": [
      "0.50025 0.50064\n"
     ]
    }
   ],
   "source": [
    "#Calculate the mean in a tranditional way. Prepare the value of the mean for the doctests.\n",
    "import random\n",
    "random.seed(42)\n",
    "L = [random.random() for i in range(10000)] \n",
    "import numpy as np\n",
    "L1 = np.array(L)\n",
    "mean = round(sum(L1) / len(L1),5)\n",
    "\n",
    "#Calculate the median in a tranditional way. Prepare the value of the median for the doctests.\n",
    "L2 = sorted(L1)\n",
    "if (len(L2) % 2) == 0:\n",
    "    median = round((L2[(len(L2)//2)-1]+L2[len(L2)//2])/2,5)\n",
    "else:\n",
    "    median = round(L2[int(len(L2)//2)],5)\n",
    "    \n",
    "print(mean,median)"
   ]
  },
  {
   "cell_type": "code",
   "execution_count": 27,
   "metadata": {},
   "outputs": [],
   "source": [
    "def py_meantest(List):\n",
    "    \"\"\"\n",
    "    This function is finding the mean of a list of numbers\n",
    "    >>> py_meantest(L1)\n",
    "    0.50025\n",
    "    \"\"\"\n",
    "    \n",
    "    import numpy as np\n",
    "    Array = np.array(List)\n",
    "    mean1 = round(Array.mean(),5)\n",
    "    return mean1\n"
   ]
  },
  {
   "cell_type": "code",
   "execution_count": 28,
   "metadata": {},
   "outputs": [],
   "source": [
    "def np_meantest(List):\n",
    "    \"\"\"\n",
    "    This function is finding the mean of a list of numbers\n",
    "    >>> np_meantest(L1)\n",
    "    0.50025\n",
    "    \"\"\"\n",
    "    \n",
    "    import numpy as np\n",
    "    mean2 = round(np.mean(List),5)\n",
    "    return mean2"
   ]
  },
  {
   "cell_type": "code",
   "execution_count": 29,
   "metadata": {},
   "outputs": [],
   "source": [
    "def DF_meantest(List):\n",
    "    \"\"\"\n",
    "    This function is finding the mean of a list of numbers\n",
    "    >>> DF_meantest(L1)\n",
    "    0.50025\n",
    "    \"\"\"\n",
    "        \n",
    "    import pandas as pd\n",
    "    Ldf = pd.DataFrame(data = List, columns=[\"number\"])\n",
    "    mean3 = list(round(pd.DataFrame.mean(Ldf),5))[0]\n",
    "    return mean3"
   ]
  },
  {
   "cell_type": "code",
   "execution_count": 30,
   "metadata": {},
   "outputs": [],
   "source": [
    "def np_mediantest(List):\n",
    "    \"\"\"\n",
    "    This function is finding the median of a list of numbers\n",
    "    >>> np_mediantest(L1)\n",
    "    0.50064\n",
    "    \"\"\"\n",
    "    SortedList = sorted(List)\n",
    "    import numpy as np\n",
    "    median1 = round(np.median(SortedList),5)\n",
    "    return median1"
   ]
  },
  {
   "cell_type": "code",
   "execution_count": 31,
   "metadata": {},
   "outputs": [],
   "source": [
    "def DF_mediantest(List):\n",
    "    \"\"\"\n",
    "    This function is finding the median of a list of numbers\n",
    "    >>> DF_mediantest(L1)\n",
    "    0.50064\n",
    "    \"\"\"\n",
    "    SortedList = sorted(List)\n",
    "    import pandas as pd\n",
    "    Ldf = pd.DataFrame(data = SortedList, columns=[\"number\"])\n",
    "    median2 = list(round((pd.DataFrame.median(Ldf)),5))[0]\n",
    "    return median2"
   ]
  },
  {
   "cell_type": "code",
   "execution_count": 32,
   "metadata": {},
   "outputs": [
    {
     "data": {
      "text/plain": [
       "0.50025"
      ]
     },
     "execution_count": 32,
     "metadata": {},
     "output_type": "execute_result"
    }
   ],
   "source": [
    "py_meantest(L1)\n",
    "np_meantest(L1)\n",
    "DF_meantest(L1)"
   ]
  },
  {
   "cell_type": "code",
   "execution_count": 33,
   "metadata": {},
   "outputs": [
    {
     "data": {
      "text/plain": [
       "0.50064"
      ]
     },
     "execution_count": 33,
     "metadata": {},
     "output_type": "execute_result"
    }
   ],
   "source": [
    "np_mediantest(L1)\n",
    "DF_mediantest(L1)"
   ]
  },
  {
   "cell_type": "code",
   "execution_count": 34,
   "metadata": {},
   "outputs": [
    {
     "name": "stdout",
     "output_type": "stream",
     "text": [
      "Trying:\n",
      "    DF_meantest(L1)\n",
      "Expecting:\n",
      "    0.50025\n",
      "ok\n",
      "Trying:\n",
      "    DF_mediantest(L1)\n",
      "Expecting:\n",
      "    0.50064\n",
      "ok\n",
      "Trying:\n",
      "    np_meantest(L1)\n",
      "Expecting:\n",
      "    0.50025\n",
      "ok\n",
      "Trying:\n",
      "    np_mediantest(L1)\n",
      "Expecting:\n",
      "    0.50064\n",
      "ok\n",
      "Trying:\n",
      "    py_meantest(L1)\n",
      "Expecting:\n",
      "    0.50025\n",
      "ok\n",
      "4 items had no tests:\n",
      "    __main__\n",
      "    __main__.timing1\n",
      "    __main__.timing2\n",
      "    __main__.timing3\n",
      "5 items passed all tests:\n",
      "   1 tests in __main__.DF_meantest\n",
      "   1 tests in __main__.DF_mediantest\n",
      "   1 tests in __main__.np_meantest\n",
      "   1 tests in __main__.np_mediantest\n",
      "   1 tests in __main__.py_meantest\n",
      "5 tests in 9 items.\n",
      "5 passed and 0 failed.\n",
      "Test passed.\n"
     ]
    }
   ],
   "source": [
    "if __name__ == \"__main__\":\n",
    "    import doctest\n",
    "    doctest.testmod(verbose=True)"
   ]
  },
  {
   "cell_type": "code",
   "execution_count": null,
   "metadata": {},
   "outputs": [],
   "source": []
  },
  {
   "cell_type": "code",
   "execution_count": null,
   "metadata": {},
   "outputs": [],
   "source": []
  },
  {
   "cell_type": "code",
   "execution_count": null,
   "metadata": {},
   "outputs": [],
   "source": []
  }
 ],
 "metadata": {
  "kernelspec": {
   "display_name": "Python 3",
   "language": "python",
   "name": "python3"
  },
  "language_info": {
   "codemirror_mode": {
    "name": "ipython",
    "version": 3
   },
   "file_extension": ".py",
   "mimetype": "text/x-python",
   "name": "python",
   "nbconvert_exporter": "python",
   "pygments_lexer": "ipython3",
   "version": "3.7.4"
  }
 },
 "nbformat": 4,
 "nbformat_minor": 2
}
